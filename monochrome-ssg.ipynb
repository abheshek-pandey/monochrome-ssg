{
 "cells": [
  {
   "cell_type": "markdown",
   "metadata": {},
   "source": [
    "# Monochrome Static Site Generator"
   ]
  },
  {
   "cell_type": "markdown",
   "metadata": {},
   "source": [
    "## i. About\n",
    "\n",
    "A custom-built `Python` Static Site-Generator(SSG) used to generate pages for my personal [website](https://www.abhe.in/) and [blog](https://www.abhe.in/blog/). It's used to fulfill the \"back-end\" needs of my website hosted here on GutHub Pages.\n",
    "\n",
    "Called \"Monochrome\" because it was for being built for a website that was rendered using mostly black and white, and a hint of grey. However, before I could finish this script, I added a dark-mode that's got a lovely shade of [pink](https://www.color-hex.com/color/e62492) as the highlight colour.\n",
    "\n",
    "The name stuck to the argument that the pink is the only \"chrome\" in the surrounding greyscale. Though it was mostly because I could not think of anything else.\n",
    "\n",
    "The code was inspired by [Jahongir Rahmonov's](https://rahmonov.me/posts/static-site-generator/) tutorial."
   ]
  },
  {
   "cell_type": "markdown",
   "metadata": {},
   "source": [
    "## ii. Python Libraries Used\n",
    "\n",
    "* `os`\n",
    "* `datetime`\n",
    "* `markdown2`\n",
    "* `jinja2`\n",
    "* `tkinter`"
   ]
  },
  {
   "cell_type": "markdown",
   "metadata": {},
   "source": [
    "## iii. Markdown File Set-Up\n",
    "\n",
    "The markdown files need to begin with certain YAML style metadata that will provide the SSG the necessary information to style the page.\n",
    "\n",
    "Each file will begin with the following block of information:\n",
    "\n",
    "```markdown\n",
    "---\n",
    "page-title: {{Title of the page}}\n",
    "page-description: {{Description of the page}}\n",
    "main-class: {{CSS class to be used}}\n",
    "title: {{Title of the blog post}}\n",
    "date: {{Date of the blog post}}\n",
    "tags: {{Tags relating to the blog post}}\n",
    "thumbnail: {{Thumbnail image}}\n",
    "summary: {{Summary of the page}}\n",
    "slug: {{Filepath to the post}}\n",
    "---\n",
    "{{Blank line}}\n",
    "```\n",
    "***The block must be followed by an empty line.***"
   ]
  },
  {
   "cell_type": "markdown",
   "metadata": {},
   "source": [
    "## iv. HTML Template Set-Up\n",
    "\n",
    "### Blog Post HTML file:\n",
    "\n",
    "```HTML\n",
    "<!DOCTYPE html>\n",
    "<html lang=\"en\">\n",
    "<head>\n",
    "    <meta charset=\"UTF-8\">\n",
    "    <meta http-equiv=\"X-UA-Compatible\" content=\"IE=edge\">\n",
    "    <meta name=\"viewport\" content=\"width=device-width, initial-scale=1.0\">\n",
    "    <title>Document</title>\n",
    "</head>\n",
    "<body>\n",
    "<h1>{{post.title}}</h1>\n",
    "\n",
    "<small>{{post.date}}</small>\n",
    "\n",
    "{{post.content}}\n",
    "</body>\n",
    "</html>\n",
    "```\n",
    "\n",
    "### Index / Recents HTML file:\n",
    "\n",
    "```HTML\n",
    "<!DOCTYPE html>\n",
    "<html lang=\"en\">\n",
    "<head>\n",
    "    <meta charset=\"UTF-8\">\n",
    "    <meta http-equiv=\"X-UA-Compatible\" content=\"IE=edge\">\n",
    "    <meta name=\"viewport\" content=\"width=device-width, initial-scale=1.0\">\n",
    "    <title>Document</title>\n",
    "</head>\n",
    "<body>\n",
    "{% for post in posts %}\n",
    "  <p>\n",
    "      <h2>{{loop.index}}: <a href=\"/blog/posts/{{ post.slug }}.html\">{{post.title}}</a> <small>{{post.date}}</small></h2>\n",
    "      {{post.summary}}\n",
    "  </p>\n",
    "{% endfor %}\n",
    "</body>\n",
    "</html>\n",
    "```"
   ]
  },
  {
   "cell_type": "markdown",
   "metadata": {},
   "source": [
    "## v. Directory Structure\n",
    "\n",
    "```\n",
    ".\n",
    "├── drafts\n",
    "│   ├── crazy-ideas.md\n",
    "│   └── writers-block.md\n",
    "├── content\n",
    "│   ├── arson.md\n",
    "│   └── boiled-egg.md\n",
    "├── posts\n",
    "│   ├── arson-crime-or-hobby.html\n",
    "│   └── my-life-as-a-boiled-egg.html\n",
    "├── template\n",
    "│   ├── all-posts-template.html\n",
    "│   |── blog-template.html\n",
    "|   └── recent-posts-template.html\n",
    "├── all-posts.html # list of all posts of the blog\n",
    "└── index.html # contains only 5 recent posts in case of my blog\n",
    "```"
   ]
  },
  {
   "cell_type": "markdown",
   "metadata": {},
   "source": [
    "## 1. Importing Libraries"
   ]
  },
  {
   "cell_type": "code",
   "execution_count": 6,
   "metadata": {},
   "outputs": [],
   "source": [
    "import os\n",
    "from datetime import datetime\n",
    "from jinja2 import Environment, PackageLoader\n",
    "from markdown2 import markdown\n",
    "from tkinter import *\n",
    "from tkinter import filedialog\n",
    "\n",
    "label_file_explorer = object"
   ]
  },
  {
   "cell_type": "markdown",
   "metadata": {},
   "source": [
    "## 2. Setting-up Funtions\n",
    "\n",
    "### a. Select the Input Markdown File"
   ]
  },
  {
   "cell_type": "code",
   "execution_count": 7,
   "metadata": {},
   "outputs": [],
   "source": [
    "def inputFile():\n",
    "    # Asks user to select the source file to be converted.\n",
    "    # Supports .md and .txt written in Markdown format\n",
    "    global input_filename\n",
    "    input_filename = filedialog.askopenfilename(\n",
    "        initialdir= \".\",\n",
    "        filetypes= (\n",
    "            (\"All files\", \"*.*\"),\n",
    "            (\"Markdown files\",\"*.md\"),\n",
    "            (\"Text files\", \"*.txt\")\n",
    "        )\n",
    "    )\n",
    "    label_file_explorer.configure(text=\"File Opened: \"+input_filename)"
   ]
  },
  {
   "cell_type": "markdown",
   "metadata": {},
   "source": [
    "### b. Render a Blog with the Input File"
   ]
  },
  {
   "cell_type": "code",
   "execution_count": 9,
   "metadata": {},
   "outputs": [],
   "source": [
    "def newBlog():\n",
    "    with open(input_filename, 'r') as file:\n",
    "        parsed_md = markdown(file.read(), extras=['metadata'])\n",
    "\n",
    "        env = Environment(loader=PackageLoader('package', 'templates'))\n",
    "        # seems to work only with a blank package.py file in the project root.\n",
    "        post_detail_template = env.get_template('post-detail.html')\n",
    "\n",
    "        data = {\n",
    "            'content': parsed_md,\n",
    "            'title': parsed_md.metadata['title'],\n",
    "            'date': parsed_md.metadata['date']\n",
    "        }\n",
    "\n",
    "    blog_html_content = post_detail_template.render(post=parsed_md.metadata)\n",
    "    blog_filepath = 'output/posts/{slug}.html'.format(slug=parsed_md.metadata['slug'])\n",
    "\n",
    "    # print(parsed_md.metadata['slug'])\n",
    "\n",
    "    os.makedirs(os.path.dirname(blog_filepath), exist_ok=True)\n",
    "    with open('blog_filepath', 'w') as file:\n",
    "        file.write(blog_html_content)\n",
    "    \n",
    "    label_file_explorer.configure(text=\"Blog Rendered\")"
   ]
  },
  {
   "cell_type": "markdown",
   "metadata": {},
   "source": [
    "### c. Updating the \"All Posts\" and \"Recents\" Pages"
   ]
  },
  {
   "cell_type": "code",
   "execution_count": 11,
   "metadata": {},
   "outputs": [],
   "source": [
    "def indexUpdate():\n",
    "    BLOG = {}\n",
    "\n",
    "    label_file_explorer.configure(text=\"Updating index...\")\n",
    "\n",
    "    for blog_md in os.listdir('content'):\n",
    "        file_path = os.path.join('content', blog_md)\n",
    "\n",
    "        with open(file_path, 'r') as file:\n",
    "            BLOG[blog_md] = markdown(file.read(),extras=['metadata'])\n",
    "\n",
    "\n",
    "    BLOG = {\n",
    "        post: BLOG[post] for post in sorted(\n",
    "            BLOG, key=lambda post: datetime.strptime(\n",
    "                BLOG[post].metadata['date'], '%Y-%m-%d'),\n",
    "                reverse=True\n",
    "        )\n",
    "    }\n",
    "\n",
    "    env = Environment(loader=PackageLoader('monochrome', 'templates'))\n",
    "    all_posts_template = env.get_template('all-posts-template.html')\n",
    "    recent_posts_template = env.get_template('recent-posts-template.html')\n",
    "\n",
    "    index_blog_metadata = [\n",
    "        BLOG[post].metadata for post in BLOG\n",
    "    ]\n",
    "\n",
    "    all_posts_html = all_posts_template.render(posts=index_blog_metadata)\n",
    "\n",
    "    recents = []\n",
    "    i=0\n",
    "    while i <5:\n",
    "        recents.append(index_blog_metadata[i])\n",
    "        i = i + 1\n",
    "    \n",
    "    recent_posts_html = all_posts_template.render(posts=recents)\n",
    "\n",
    "\n",
    "    with open('output/all.html', 'w') as file:\n",
    "        file.write(all_posts_html)\n",
    "    with open('output/index.html', 'w') as file:\n",
    "        file.write(recent_posts_html)\n",
    "\n",
    "    label_file_explorer.configure(text=\"Index Updated\")"
   ]
  },
  {
   "cell_type": "markdown",
   "metadata": {},
   "source": [
    "## 3. Ugly GUI Set-Up\n",
    "\n",
    "Using TKinter"
   ]
  },
  {
   "cell_type": "code",
   "execution_count": null,
   "metadata": {},
   "outputs": [],
   "source": [
    "window = Tk()\n",
    "window.title('Monochrome SSG v-01')\n",
    "window.geometry(\"500x200\")\n",
    "window.config(background = \"white\")\n",
    "\n",
    "label_file_explorer = Label(window,\n",
    "\t\t\t\t\t\t\ttext = \"Please Select the Input file\",\n",
    "                            width= 60,\n",
    "\t\t\t\t\t\t\tfg = \"black\",\n",
    "                            bg=\"white\")\n",
    "\n",
    "button_inputFile = Button(window,\n",
    "                            text = \"Input File\",\n",
    "                            command = inputFile)\n",
    "\n",
    "button_newBlog = Button(window,\n",
    "                            text = \"Render Blog\",\n",
    "                            command = newBlog)\n",
    "                        \n",
    "button_indexUpdate = Button(window,\n",
    "                            text = \"Update Index\",\n",
    "                            command = indexUpdate)\n",
    "\n",
    "button_exit = Button(window,\n",
    "                            text = \"Exit\",\n",
    "                            command = exit)\n",
    "\n",
    "label_file_explorer.grid(column = 1, row = 1)\n",
    "button_inputFile.grid(column = 1, row = 2)\n",
    "button_newBlog.grid(column = 1, row = 3)\n",
    "button_indexUpdate.grid(column = 1, row = 4)\n",
    "button_exit.grid(column = 1, row = 5)\n",
    "\n",
    "window.mainloop()"
   ]
  },
  {
   "cell_type": "markdown",
   "metadata": {},
   "source": [
    "The GUI currently looks like this:\n",
    "\n",
    "![\"Monochrome SSG v01 - Ugly GUI\"](assets/ugly-gui.png \"An ugly GUI of Monochrome SSG v01\")"
   ]
  },
  {
   "cell_type": "markdown",
   "metadata": {},
   "source": [
    "## A. Future Work\n",
    "\n",
    "* Add templates for non-blog pages.\n",
    "* Add functionality to update templates.\n",
    "* Add functionality to regenerate pages with new templates.\n",
    "* Add functionality to import `.ipynb` HTML export."
   ]
  }
 ],
 "metadata": {
  "kernelspec": {
   "display_name": "Python 3.10.7 64-bit",
   "language": "python",
   "name": "python3"
  },
  "language_info": {
   "codemirror_mode": {
    "name": "ipython",
    "version": 3
   },
   "file_extension": ".py",
   "mimetype": "text/x-python",
   "name": "python",
   "nbconvert_exporter": "python",
   "pygments_lexer": "ipython3",
   "version": "3.10.7"
  },
  "orig_nbformat": 4,
  "vscode": {
   "interpreter": {
    "hash": "9b082811b5b545100a32b1d8ae844b842029921d9a1b2d08fda988220931e009"
   }
  }
 },
 "nbformat": 4,
 "nbformat_minor": 2
}
